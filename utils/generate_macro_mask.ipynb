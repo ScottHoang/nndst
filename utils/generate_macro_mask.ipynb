{
 "cells": [
  {
   "cell_type": "code",
   "execution_count": 11,
   "id": "ff5bb936",
   "metadata": {},
   "outputs": [],
   "source": [
    "import os\n",
    "import torch\n",
    "import os.path as osp\n",
    "import torchvision\n",
    "from scheme.EB import EarlyBird\n",
    "from typing import *\n",
    "import tqdm\n",
    "import collections\n",
    "import numpy as np"
   ]
  },
  {
   "cell_type": "code",
   "execution_count": 2,
   "id": "85d0c308",
   "metadata": {},
   "outputs": [],
   "source": [
    "DIRS = ['../Early-Bird-Tickets/EB/', '../FreeTickets/results/']\n",
    "DATASETS = ['cifar10', 'cifar100']\n",
    "MODELS = ['resnet34']\n",
    "SPARSITY = 0.8"
   ]
  },
  {
   "cell_type": "code",
   "execution_count": 3,
   "id": "f3cadafd",
   "metadata": {},
   "outputs": [],
   "source": [
    "structured_dirs = osp.join(DIRS[0], DATASETS[0], MODELS[0])\n",
    "unstructured_dirs = osp.join(DIRS[1], DATASETS[0], MODELS[0])"
   ]
  },
  {
   "cell_type": "code",
   "execution_count": 4,
   "id": "2c73c958",
   "metadata": {},
   "outputs": [],
   "source": [
    "struct_files = [file for file in os.listdir(structured_dirs) if 'ckpt' in file]\n",
    "unstruct_files = [file for file in os.listdir(unstructured_dirs) if 'ckpt' in file]"
   ]
  },
  {
   "cell_type": "code",
   "execution_count": 5,
   "id": "96e8621f",
   "metadata": {},
   "outputs": [],
   "source": [
    "struct_files.sort(key=lambda x: int(x.split('.')[0][4::]))\n",
    "unstruct_files.sort(key=lambda x: int(x.split('_')[0][4::]))"
   ]
  },
  {
   "cell_type": "code",
   "execution_count": 6,
   "id": "cf96b74e",
   "metadata": {},
   "outputs": [],
   "source": [
    "paired_files = zip(struct_files, unstruct_files)"
   ]
  },
  {
   "cell_type": "code",
   "execution_count": 7,
   "id": "5d0bf6c2",
   "metadata": {},
   "outputs": [],
   "source": [
    "model = eval(f\"torchvision.models.{MODELS[0]}\")(num_classes=10).cuda()"
   ]
  },
  {
   "cell_type": "code",
   "execution_count": 8,
   "id": "0279e5ca",
   "metadata": {},
   "outputs": [],
   "source": [
    "from typing import *\n",
    "from scheme.EB import EarlyBird\n",
    "import torch\n",
    "import torch.nn as nn\n",
    "def generate_macro_mask(model_fn:Callable, s_f:str, us_f:str, n_class:int, sparsity:float=0.8, x_perc:float=0.5) -> torch.Tensor:\n",
    "    \"\"\"\n",
    "    desc:\n",
    "        generate a macro or structured mask (channel masking) \n",
    "        from struture and unstructure pruning.\n",
    "    param:\n",
    "        model_fn: model function\n",
    "        s_f: structure file path\n",
    "        us_f: unstructure file path\n",
    "        n_class: number of class\n",
    "        sparsity: degree of sparsity from 0.0 to 1.0\n",
    "        x_perc: cross over percentage. If kernel is x_perc \n",
    "            pruned, it is considered off and vice versa.    return \n",
    "        mask: masking vector \n",
    "    \"\"\"\n",
    "    s_m = model_fn(num_classes=n_class).cuda()\n",
    "    s_m.load_state_dict(torch.load(s_f, map_location='cpu')['state_dict'])\n",
    "    us_m = model_fn(num_classes=n_class).cuda()\n",
    "    us_m.load_state_dict(torch.load(us_f, map_location='cpu')['state_dict'])\n",
    "    \n",
    "    s_mask = EarlyBird(sparsity).pruning(s_m, sparsity) \n",
    "    us_mask = micro_to_macro(us_m)\n",
    "    \n",
    "    intersection = s_mask * (s_mask == us_mask).float()    \n",
    "    return s_mask, us_mask, intersection\n",
    "\n",
    "def micro_to_macro(model:torch.nn.Module, x_perc:float=0.55) -> torch.Tensor:\n",
    "    \"\"\"\n",
    "    desc:\n",
    "        convert unstructured pruning to structure pruning\n",
    "    param:\n",
    "        model: nn.Module \n",
    "        x_perc: cross over percentage. If kernel is x_perc \n",
    "        pruned, it is considered off and vice versa.\n",
    "    return:\n",
    "        mask: masking vector\n",
    "    \"\"\"\n",
    "    total = 0\n",
    "    sparse = 0\n",
    "    for m in model.modules():\n",
    "        if isinstance(m, nn.BatchNorm2d):\n",
    "            total += m.weight.data.shape[0]\n",
    "            \n",
    "    mask = torch.zeros(total)\n",
    "    offset = 0\n",
    "    for m in model.modules():\n",
    "        if isinstance(m, nn.Conv2d):\n",
    "            # m.weight (out, in, kH, kW)\n",
    "            # binarize and sum total zero. \n",
    "            # new m.weight (out, in, value), and if value/(kH+kW) > x_perc, \n",
    "            # filter is on. if sum of all filters is > x_perf, channel is on. \n",
    "            # increase offset\n",
    "            out_c, in_c, kH, kW = m.weight.shape\n",
    "            boolean_weight = (m.weight != 0.0).view(out_c, in_c, -1).float().mean(dim=-1).gt(x_perc).float().sum(dim=-1).div(in_c).gt(x_perc).float()\n",
    "            mask[offset:offset+out_c] = boolean_weight\n",
    "            offset += out_c\n",
    "        \n",
    "    return mask \n",
    "\n",
    "def valid_masked_model(model:nn.Module, mask:torch.Tensor) -> bool:\n",
    "    \"\"\"\n",
    "    desc:\n",
    "        determine if the masking vector consitutes a valid model.\n",
    "        A valid model is one such that at least one input channel \n",
    "        makes it to the final output channel.\n",
    "    params:\n",
    "        model: resnet/vgg model construct\n",
    "        mask: a masking vector\n",
    "    return:\n",
    "        bool: Determine whether the pruned model from mask is a \n",
    "        valid model\n",
    "    \"\"\"\n",
    "    offset = 0\n",
    "    total = 0\n",
    "    \n",
    "    for m in model.modules():\n",
    "        if isinstance(m, nn.BatchNorm2d):\n",
    "            total += m.weight.data.shape[0]\n",
    "    assert mask.size(0) == total\n",
    "    for m in model.modules():\n",
    "        if isinstance(m, nn.BatchNorm2d):\n",
    "            out_c = m.weight.shape[0]\n",
    "            if mask[offset:offset+out_c].sum() > 0:\n",
    "                offset+=out_c\n",
    "            else:\n",
    "                print(offset, out_c)\n",
    "                return False\n",
    "    return True\n",
    "\n",
    "def apply_marco_mask(model:nn.Module, mask:torch.Tensor) -> nn.Module:\n",
    "    \"\"\"\n",
    "    desc: \n",
    "        applying model's mask on batchnorm layer.\n",
    "    \"\"\"\n",
    "    total = 0\n",
    "    offset = 0\n",
    "    for m in model.modules():\n",
    "        if isinstance(m, nn.BatchNorm2d):\n",
    "            total += m.weight.data.shape[0]\n",
    "    assert mask.shape[0] == total\n",
    "    for m in model.modules():\n",
    "        if isinstance(m, nn.BatchNorm2d):\n",
    "            out_c = m.weight.data.size(0)\n",
    "            m.weight.data.mul_(mask[offset:offset+out_c])\n",
    "            m.bias.data.mul_(mask[offset:offset+out_c])\n",
    "            offset += out_c\n",
    "    return model\n",
    "    \n",
    "    \n",
    "    "
   ]
  },
  {
   "cell_type": "code",
   "execution_count": 9,
   "id": "3ee140fb",
   "metadata": {},
   "outputs": [
    {
     "name": "stderr",
     "output_type": "stream",
     "text": [
      "100%|█████████████████████████████████████████████████████████████████████████████████████████████████████████████████████████████████████| 100/100 [03:24<00:00,  2.04s/it]\n"
     ]
    }
   ],
   "source": [
    "eb = EarlyBird(SPARSITY)\n",
    "model_fn = eval(f\"torchvision.models.{MODELS[0]}\")\n",
    "output_dirs = '../intersected_macro_masks/cifar10/resnet34'\n",
    "random_init = '../common_models/random_weights/resnet34_10.pth.tar'\n",
    "os.makedirs(output_dirs, exist_ok=True)\n",
    "paired_files = zip(struct_files, unstruct_files)\n",
    "sizes = collections.defaultdict(list)\n",
    "for i, (struct, unstruct) in tqdm.tqdm(enumerate(paired_files), total=len(struct_files)):\n",
    "    s_f = osp.join(structured_dirs, struct)\n",
    "    us_f = osp.join(unstructured_dirs, unstruct)\n",
    "    s_mask, us_mask, macro_mask = generate_macro_mask(model_fn, s_f, us_f, 10, 0.8, 0.55)\n",
    "    model = model_fn(num_classes=10)\n",
    "    model.load_state_dict(torch.load(random_init))\n",
    "    model = apply_marco_mask(model, macro_mask)\n",
    "    torch.save(model.state_dict(), osp.join(output_dirs, f'iou_{i}.pth.tar'))\n",
    "    model.load_state_dict(torch.load(random_init))\n",
    "    model = apply_marco_mask(model, s_mask)\n",
    "    torch.save(model.state_dict(), osp.join(output_dirs, f'struct_{i}.pth.tar'))\n",
    "    model.load_state_dict(torch.load(random_init))\n",
    "    model = apply_marco_mask(model, us_mask)\n",
    "    torch.save(model.state_dict(), osp.join(output_dirs, f'unstruct_{i}.pth.tar'))\n",
    "    sizes['s_mask'].append(s_mask.sum()/s_mask.size(0))\n",
    "    sizes['us_mask'].append(us_mask.sum()/us_mask.size(0))\n",
    "    sizes['macro_mask'].append(macro_mask.sum()/macro_mask.size(0))\n",
    "\n",
    "    \n",
    "#     print(f\"s_mask: {s_mask.sum()/s_mask.size(0)}\")\n",
    "#     print(f\"us_mask: {us_mask.sum()/us_mask.size(0)}\")\n",
    "#     print(f\"marco_mask: {macro_mask.sum()/macro_mask.size(0)}\")\n",
    "    \n",
    "\n",
    "    \n",
    "    "
   ]
  },
  {
   "cell_type": "code",
   "execution_count": 12,
   "id": "2d889a70",
   "metadata": {},
   "outputs": [],
   "source": [
    "compatibility = np.zeros((len(sizes['s_mask']), 3))\n",
    "for i in range(len(sizes['s_mask'])):\n",
    "    compatibility[i][0] = sizes['s_mask'][i]\n",
    "    compatibility[i][1] = sizes['us_mask'][i]\n",
    "    compatibility[i][2] = sizes['macro_mask'][i]"
   ]
  },
  {
   "cell_type": "code",
   "execution_count": 15,
   "id": "cc8946b5",
   "metadata": {},
   "outputs": [],
   "source": [
    "path = 'resnet34_sparsity_ratio.txt'\n",
    "np.savetxt(path, compatibility, delimiter=',')"
   ]
  }
 ],
 "metadata": {
  "kernelspec": {
   "display_name": "Python 3 (ipykernel)",
   "language": "python",
   "name": "python3"
  },
  "language_info": {
   "codemirror_mode": {
    "name": "ipython",
    "version": 3
   },
   "file_extension": ".py",
   "mimetype": "text/x-python",
   "name": "python",
   "nbconvert_exporter": "python",
   "pygments_lexer": "ipython3",
   "version": "3.7.13"
  }
 },
 "nbformat": 4,
 "nbformat_minor": 5
}
