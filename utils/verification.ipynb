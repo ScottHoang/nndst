{
 "cells": [
  {
   "cell_type": "code",
   "execution_count": 42,
   "id": "928010cc",
   "metadata": {
    "pycharm": {
     "name": "#%%\n"
    }
   },
   "outputs": [],
   "source": [
    "import networkx\n",
    "import os\n",
    "import numpy as np"
   ]
  },
  {
   "cell_type": "code",
   "execution_count": 4,
   "id": "1c959e09",
   "metadata": {
    "pycharm": {
     "name": "#%%\n"
    }
   },
   "outputs": [],
   "source": [
    "file = \"../graphs//cifar10/resnet34/ckpt0.pth.tar.gml\""
   ]
  },
  {
   "cell_type": "code",
   "execution_count": 5,
   "id": "af962274",
   "metadata": {
    "pycharm": {
     "name": "#%%\n"
    }
   },
   "outputs": [],
   "source": [
    "network = networkx.read_gml(file)\n",
    "masked = 0\n",
    "total = 0"
   ]
  },
  {
   "cell_type": "code",
   "execution_count": 6,
   "id": "3af3fb1f",
   "metadata": {
    "pycharm": {
     "name": "#%%\n"
    }
   },
   "outputs": [],
   "source": [
    "for e in network.edges.data():\n",
    "    mask = float(e[-1]['weight'])\n",
    "    total += 1\n",
    "    if mask == 0.0:\n",
    "        masked+=1\n"
   ]
  },
  {
   "cell_type": "code",
   "execution_count": 7,
   "id": "ec806c25",
   "metadata": {
    "pycharm": {
     "name": "#%%\n"
    }
   },
   "outputs": [
    {
     "name": "stdout",
     "output_type": "stream",
     "text": [
      "total: 2348224, masked:590944, percent: 25.16557193862255\n"
     ]
    }
   ],
   "source": [
    "print(f'total: {total}, masked:{masked}, percent: {masked/total * 100}')"
   ]
  },
  {
   "cell_type": "code",
   "execution_count": null,
   "id": "d0d52443",
   "metadata": {
    "pycharm": {
     "name": "#%%\n"
    }
   },
   "outputs": [
    {
     "name": "stdout",
     "output_type": "stream",
     "text": [
      "../graphs/FreeTickets/cifar10/resnet34/ckpt160_0.pth.gml\n",
      "ckpt160_0.pth.gml: total: 21100736, masked:3841225, percent: 18.20422282900464\n",
      "../graphs/FreeTickets/cifar10/resnet34/ckpt152_0.pth.gml\n",
      "ckpt152_0.pth.gml: total: 21100736, masked:3852607, percent: 18.25816407541424\n",
      "../graphs/FreeTickets/cifar10/resnet34/ckpt158_0.pth.gml\n",
      "ckpt158_0.pth.gml: total: 21100736, masked:3852607, percent: 18.25816407541424\n",
      "../graphs/FreeTickets/cifar10/resnet34/ckpt155_0.pth.gml\n",
      "ckpt155_0.pth.gml: total: 21100736, masked:3852607, percent: 18.25816407541424\n",
      "../graphs/FreeTickets/cifar10/resnet34/ckpt157_0.pth.gml\n",
      "ckpt157_0.pth.gml: total: 21100736, masked:3852607, percent: 18.25816407541424\n",
      "../graphs/FreeTickets/cifar10/resnet34/ckpt165_1.pth.gml\n",
      "ckpt165_1.pth.gml: total: 21100736, masked:3674282, percent: 17.413051374132163\n",
      "../graphs/FreeTickets/cifar10/resnet34/ckpt162_1.pth.gml\n"
     ]
    }
   ],
   "source": [
    "fdir = '../graphs/FreeTickets/cifar10/resnet34/'\n",
    "dirs = os.listdir(fdir)\n",
    "dirs.sort(key=lambda x: int(x.split('_')[-1].split('.')[0]))\n",
    "for f in dirs:\n",
    "    path = os.path.join(fdir, f)\n",
    "    print(path)\n",
    "    network = networkx.read_gml(path)\n",
    "    sparse = 0\n",
    "    total = 0\n",
    "    for e in network.edges.data():\n",
    "        if isinstance(e[2]['weights'], float):\n",
    "            weight = np.array([e[2]['weights']])\n",
    "        else:\n",
    "            weight = np.array(e[2]['weights'])\n",
    "        total += len(weight)\n",
    "        sparse += (weight != 0).sum()\n",
    "\n",
    "        \n",
    "    print(f'{f}: total: {total}, masked:{sparse}, percent: {sparse/total * 100}')"
   ]
  },
  {
   "cell_type": "code",
   "execution_count": 3,
   "id": "9a40edd4",
   "metadata": {
    "pycharm": {
     "name": "#%%\n"
    }
   },
   "outputs": [
    {
     "name": "stdout",
     "output_type": "stream",
     "text": [
      "[-0.009060160256922245, -0.0023684133775532246, -0.0022233938798308372, -0.005300683435052633, -0.005782977677881718, -0.006562155671417713, -0.007537331897765398, -0.0025755770038813353, -0.00020699114247690886, -0.14926593005657196, -0.007269484456628561, -0.004250517580658197, -0.010174388997256756, -0.012911735102534294, -0.003453459357842803, 0.0014071731129661202, -0.126009002327919, -0.17820438742637634, -0.007476191036403179, -0.009717000648379326, -0.010053897276520729, -0.006842104252427816, -0.002171311993151903, 0.0007210710318759084, -0.12174301594495773, -0.005830124020576477, -0.009695770218968391, -0.009677400812506676, -0.015492488630115986, -0.011120522394776344, -0.0054467953741550446, -0.0028897712472826242, -0.008063102141022682, -0.012633704580366611, -0.01756822131574154, -0.015109304338693619, -0.013391601853072643, -0.008500749245285988, -0.005578869953751564, -0.010324818082153797, -0.011356380768120289, -0.017203867435455322, -0.009657210670411587, -0.007260049693286419, -0.006038828752934933, -0.004492652602493763, -0.12681439518928528, -0.00579422153532505, -0.010465525090694427]\n"
     ]
    }
   ],
   "source": [
    "for e in network.edges.data():\n",
    "    print(e[-1]['weights'])\n",
    "    break"
   ]
  },
  {
   "cell_type": "code",
   "execution_count": 7,
   "id": "bc3a1229",
   "metadata": {
    "pycharm": {
     "name": "#%%\n"
    }
   },
   "outputs": [],
   "source": [
    "import torch"
   ]
  },
  {
   "cell_type": "code",
   "execution_count": 21,
   "id": "837ed96a",
   "metadata": {
    "pycharm": {
     "name": "#%%\n"
    }
   },
   "outputs": [],
   "source": [
    "weight = torch.load(\"../FreeTickets/results/cifar10/resnet34/ckpt158_0.pth\")"
   ]
  },
  {
   "cell_type": "code",
   "execution_count": 22,
   "id": "267d8ae1",
   "metadata": {
    "pycharm": {
     "name": "#%%\n"
    }
   },
   "outputs": [],
   "source": [
    "model_weight = weight['state_dict']"
   ]
  },
  {
   "cell_type": "code",
   "execution_count": 23,
   "id": "3a338287",
   "metadata": {
    "pycharm": {
     "name": "#%%\n"
    }
   },
   "outputs": [],
   "source": [
    "total_parameter = 0\n",
    "sparse_size = 0\n",
    "for k, v in model_weight.items():\n",
    "    sparse_size += (v != 0).sum().int().item()\n",
    "    total_parameter += v.view(-1).size(0)"
   ]
  },
  {
   "cell_type": "code",
   "execution_count": 24,
   "id": "71c5f06b",
   "metadata": {
    "pycharm": {
     "name": "#%%\n"
    }
   },
   "outputs": [
    {
     "name": "stdout",
     "output_type": "stream",
     "text": [
      "4058733 21306862 0.1904894770520408\n"
     ]
    }
   ],
   "source": [
    "print(sparse_size, total_parameter, sparse_size/total_parameter )"
   ]
  },
  {
   "cell_type": "code",
   "execution_count": 28,
   "id": "c02b2f06",
   "metadata": {
    "pycharm": {
     "name": "#%%\n"
    }
   },
   "outputs": [],
   "source": [
    "file = \"../graphs/FreeTickets/cifar10/resnet34/ckpt158_0.pth.gml\"\n",
    "network = networkx.read_gml(file)\n",
    "masked = 0\n",
    "total = 0"
   ]
  },
  {
   "cell_type": "code",
   "execution_count": 31,
   "id": "19d89a20",
   "metadata": {
    "pycharm": {
     "name": "#%%\n"
    }
   },
   "outputs": [
    {
     "data": {
      "text/plain": [
       "tensor([[ 0.0072, -0.0114, -0.0103, -0.0002,  0.0020, -0.0427, -0.0230],\n",
       "        [ 0.0044, -0.0962, -0.1462, -0.0941,  0.0079, -0.0275, -0.0695],\n",
       "        [ 0.0087, -0.1045, -0.1251, -0.1744, -0.0265,  0.0149, -0.0403],\n",
       "        [-0.0803, -0.0893,  0.0004, -0.1230, -0.1060,  0.0137, -0.0425],\n",
       "        [-0.0919, -0.0701,  0.0144, -0.0424, -0.1157, -0.0440, -0.0590],\n",
       "        [-0.0757, -0.0547,  0.0059, -0.0027, -0.1039, -0.0693,  0.0046],\n",
       "        [ 0.0050, -0.0350,  0.0003, -0.0792, -0.1225, -0.0897, -0.0309]],\n",
       "       device='cuda:0')"
      ]
     },
     "execution_count": 31,
     "metadata": {},
     "output_type": "execute_result"
    }
   ],
   "source": [
    "model_weight['conv1.weight'][0, 0]"
   ]
  },
  {
   "cell_type": "code",
   "execution_count": 58,
   "id": "2ec14685",
   "metadata": {
    "pycharm": {
     "name": "#%%\n"
    }
   },
   "outputs": [],
   "source": [
    "sparse = 0\n",
    "total = 0\n",
    "for e in network.edges.data():\n",
    "    if isinstance(e[2]['weights'], float):\n",
    "        weight = np.array([e[2]['weights']])\n",
    "    else:\n",
    "        weight = np.array(e[2]['weights'])\n",
    "    try:\n",
    "        total += len(weight)\n",
    "        sparse += (weight != 0).sum()\n",
    "    except:\n",
    "        print(weight)\n"
   ]
  },
  {
   "cell_type": "code",
   "execution_count": 59,
   "id": "e8e16561",
   "metadata": {
    "pycharm": {
     "name": "#%%\n"
    }
   },
   "outputs": [
    {
     "name": "stdout",
     "output_type": "stream",
     "text": [
      "3852607 21100736 0.1825816407541424\n"
     ]
    }
   ],
   "source": [
    "print(sparse, total, sparse / total)"
   ]
  },
  {
   "cell_type": "code",
   "execution_count": null,
   "id": "6403b771",
   "metadata": {
    "pycharm": {
     "name": "#%%\n"
    }
   },
   "outputs": [],
   "source": []
  }
 ],
 "metadata": {
  "kernelspec": {
   "display_name": "Python 3 (ipykernel)",
   "language": "python",
   "name": "python3"
  },
  "language_info": {
   "codemirror_mode": {
    "name": "ipython",
    "version": 3
   },
   "file_extension": ".py",
   "mimetype": "text/x-python",
   "name": "python",
   "nbconvert_exporter": "python",
   "pygments_lexer": "ipython3",
   "version": "3.7.13"
  }
 },
 "nbformat": 4,
 "nbformat_minor": 5
}