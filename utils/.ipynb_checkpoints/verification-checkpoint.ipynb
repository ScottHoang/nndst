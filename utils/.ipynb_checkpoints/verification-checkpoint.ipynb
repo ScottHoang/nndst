{
 "cells": [
  {
   "cell_type": "code",
   "execution_count": 1,
   "id": "928010cc",
   "metadata": {},
   "outputs": [],
   "source": [
    "import networkx\n",
    "import os"
   ]
  },
  {
   "cell_type": "code",
   "execution_count": 4,
   "id": "1c959e09",
   "metadata": {},
   "outputs": [],
   "source": [
    "file = \"../graphs//cifar10/resnet34/ckpt0.pth.tar.gml\""
   ]
  },
  {
   "cell_type": "code",
   "execution_count": 5,
   "id": "af962274",
   "metadata": {},
   "outputs": [],
   "source": [
    "network = networkx.read_gml(file)\n",
    "masked = 0\n",
    "total = 0"
   ]
  },
  {
   "cell_type": "code",
   "execution_count": 6,
   "id": "3af3fb1f",
   "metadata": {},
   "outputs": [],
   "source": [
    "for e in network.edges.data():\n",
    "    mask = float(e[-1]['weight'])\n",
    "    total += 1\n",
    "    if mask == 0.0:\n",
    "        masked+=1\n"
   ]
  },
  {
   "cell_type": "code",
   "execution_count": 7,
   "id": "ec806c25",
   "metadata": {},
   "outputs": [
    {
     "name": "stdout",
     "output_type": "stream",
     "text": [
      "total: 2348224, masked:590944, percent: 25.16557193862255\n"
     ]
    }
   ],
   "source": [
    "print(f'total: {total}, masked:{masked}, percent: {masked/total * 100}')"
   ]
  },
  {
   "cell_type": "code",
   "execution_count": 2,
   "id": "d0d52443",
   "metadata": {},
   "outputs": [
    {
     "name": "stdout",
     "output_type": "stream",
     "text": [
      "../graphs/FreeTickets/cifar10/resnet34/ckpt163_1.pth.gml\n"
     ]
    },
    {
     "ename": "TypeError",
     "evalue": "tuple indices must be integers or slices, not str",
     "output_type": "error",
     "traceback": [
      "\u001b[0;31m---------------------------------------------------------------------------\u001b[0m",
      "\u001b[0;31mTypeError\u001b[0m                                 Traceback (most recent call last)",
      "\u001b[0;32m/tmp/ipykernel_3628318/4220404075.py\u001b[0m in \u001b[0;36m<module>\u001b[0;34m\u001b[0m\n\u001b[1;32m      9\u001b[0m     \u001b[0mtotal\u001b[0m \u001b[0;34m=\u001b[0m \u001b[0;36m0\u001b[0m\u001b[0;34m\u001b[0m\u001b[0;34m\u001b[0m\u001b[0m\n\u001b[1;32m     10\u001b[0m     \u001b[0;32mfor\u001b[0m \u001b[0me\u001b[0m \u001b[0;32min\u001b[0m \u001b[0mnetwork\u001b[0m\u001b[0;34m.\u001b[0m\u001b[0medges\u001b[0m\u001b[0;34m.\u001b[0m\u001b[0mdata\u001b[0m\u001b[0;34m(\u001b[0m\u001b[0;34m)\u001b[0m\u001b[0;34m:\u001b[0m\u001b[0;34m\u001b[0m\u001b[0;34m\u001b[0m\u001b[0m\n\u001b[0;32m---> 11\u001b[0;31m         \u001b[0mweight\u001b[0m \u001b[0;34m=\u001b[0m \u001b[0;34m[\u001b[0m\u001b[0mfloat\u001b[0m\u001b[0;34m(\u001b[0m\u001b[0mn\u001b[0m\u001b[0;34m)\u001b[0m \u001b[0;32mfor\u001b[0m \u001b[0mn\u001b[0m \u001b[0;32min\u001b[0m \u001b[0me\u001b[0m\u001b[0;34m[\u001b[0m\u001b[0;34m'weights'\u001b[0m\u001b[0;34m]\u001b[0m\u001b[0;34m]\u001b[0m\u001b[0;34m\u001b[0m\u001b[0;34m\u001b[0m\u001b[0m\n\u001b[0m\u001b[1;32m     12\u001b[0m         \u001b[0mtotal\u001b[0m \u001b[0;34m+=\u001b[0m \u001b[0mlen\u001b[0m\u001b[0;34m(\u001b[0m\u001b[0mweight\u001b[0m\u001b[0;34m)\u001b[0m\u001b[0;34m\u001b[0m\u001b[0;34m\u001b[0m\u001b[0m\n\u001b[1;32m     13\u001b[0m         \u001b[0;32mfor\u001b[0m \u001b[0mw\u001b[0m \u001b[0;32min\u001b[0m \u001b[0mweight\u001b[0m\u001b[0;34m:\u001b[0m\u001b[0;34m\u001b[0m\u001b[0;34m\u001b[0m\u001b[0m\n",
      "\u001b[0;31mTypeError\u001b[0m: tuple indices must be integers or slices, not str"
     ]
    }
   ],
   "source": [
    "fdir = '../graphs/FreeTickets/cifar10/resnet34/'\n",
    "dirs = os.listdir(fdir)\n",
    "dirs.sort()\n",
    "for f in dirs:\n",
    "    path = os.path.join(fdir, f)\n",
    "    print(path)\n",
    "    network = networkx.read_gml(path)\n",
    "    masked = 0\n",
    "    total = 0\n",
    "    for e in network.edges.data():\n",
    "        if isintance(e['weight'], 'str'):\n",
    "            continue\n",
    "        weight = [float(n) for n in e['weights']]\n",
    "        total += len(weight)\n",
    "        for w in weight:\n",
    "            if w == 0.0:\n",
    "                masked+=w\n",
    "        \n",
    "    print(f'{f}: total: {total}, masked:{masked}, percent: {masked/total * 100}')"
   ]
  },
  {
   "cell_type": "code",
   "execution_count": null,
   "id": "9a40edd4",
   "metadata": {},
   "outputs": [],
   "source": []
  }
 ],
 "metadata": {
  "kernelspec": {
   "display_name": "Python 3 (ipykernel)",
   "language": "python",
   "name": "python3"
  },
  "language_info": {
   "codemirror_mode": {
    "name": "ipython",
    "version": 3
   },
   "file_extension": ".py",
   "mimetype": "text/x-python",
   "name": "python",
   "nbconvert_exporter": "python",
   "pygments_lexer": "ipython3",
   "version": "3.7.13"
  }
 },
 "nbformat": 4,
 "nbformat_minor": 5
}
