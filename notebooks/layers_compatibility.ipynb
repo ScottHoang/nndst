{
 "cells": [
  {
   "cell_type": "code",
   "execution_count": 98,
   "id": "edc23a10-d6c3-426a-8ad9-2f34e98d34d9",
   "metadata": {},
   "outputs": [],
   "source": [
    "import os\n",
    "import os.path as osp\n",
    "import torch_geometric as pyg\n",
    "import pandas as pd\n",
    "import torch\n",
    "import collections\n",
    "import seaborn as sns\n",
    "import torchvision\n",
    "from typing import List"
   ]
  },
  {
   "cell_type": "code",
   "execution_count": 3,
   "id": "78f82799-5840-4350-991e-b92930bb2e3f",
   "metadata": {},
   "outputs": [],
   "source": [
    "graph_dir = \"../graphs/resnet34/cifar10\"\n",
    "graph_files = [osp.join(graph_dir, i) for i in os.listdir(graph_dir)]\n",
    "test_graph = graph_files[0]"
   ]
  },
  {
   "cell_type": "code",
   "execution_count": 223,
   "id": "806e608f-a336-4940-a8e4-e7ac2cd335ab",
   "metadata": {},
   "outputs": [],
   "source": [
    "def pairingLayers(layernames:List[str])->List[str]:\n",
    "    pairs = []\n",
    "    for i in range(1, len(layernames)):\n",
    "        cur = layernames[i]\n",
    "        prev = layernames[i-1]\n",
    "        if cur == 'fc' or prev == 'fc':\n",
    "            continue\n",
    "        if 'downsample' not in cur:\n",
    "            pairs.append([prev, cur])\n",
    "            if 'downsample' in prev:\n",
    "                pairs.append([pairs[-3][-1], cur])\n",
    "        else:\n",
    "            components = cur.split('.')\n",
    "            sublayer = int(components[1])\n",
    "            if sublayer == 0:\n",
    "                for j in range(i-1, -1, -1):\n",
    "                    prev_layer_comp = layernames[j].split('.')\n",
    "                    if prev_layer_comp[0] != components[0]:\n",
    "                        pairs.append([layernames[j], cur])\n",
    "                        break   \n",
    "            else:\n",
    "                for j in range(i-1, -1, -1):\n",
    "                    prev_layer_comp = layernames[j].split('.')\n",
    "                    if int(prev_layer_comp[1]) < sublayer:\n",
    "                        pairs.append([layernames[j], cur])\n",
    "                        break   \n",
    "            \n",
    "    return pairs"
   ]
  },
  {
   "cell_type": "code",
   "execution_count": 224,
   "id": "1d85b12a-603f-49a5-83ae-479c507e50a0",
   "metadata": {},
   "outputs": [],
   "source": [
    "def CopelandScores(l1:dict, l2:dict, l2inear=False)->List[float]:\n",
    "    l1_out = l1['dim_out']\n",
    "    l2_in  = l2['dim_in']\n",
    "    k_size = l2_in // l1_out\n",
    "    l1deg = pyg.utils.degree(l1['graph'].edge_index[0])\n",
    "    l2deg = pyg.utils.degree(l2['graph'].edge_index[0])\n",
    "    ####\n",
    "    in_deg  = l1deg[-l1_out::]\n",
    "    out_deg = l2deg[0:l2_in].reshape(l1_out, k_size)\n",
    "    ###\n",
    "    in_deg_norm = in_deg / (l1deg[0:l1['dim_in']] != 0).sum()\n",
    "    out_deg_norm = out_deg / (l2deg[l2['dim_in']::]!=0).sum()\n",
    "    ###\n",
    "    mask = in_deg != 0\n",
    "    ###\n",
    "    out_deg_m = out_deg_norm[mask]\n",
    "    in_deg_m = in_deg_norm[mask]\n",
    "    throughput = out_deg_m * in_deg_m.tile(k_size).view(k_size, in_deg_m.size(0)).T\n",
    "    return throughput.mean()\n",
    "    "
   ]
  },
  {
   "cell_type": "code",
   "execution_count": 225,
   "id": "35d3fd32-aae6-443f-8057-2f0983ef32e5",
   "metadata": {},
   "outputs": [],
   "source": [
    "def ChannelOverlapCoef(l1:dict, in_channels:int)->float:\n",
    "    k_size = l1['dim_in'] // in_channels\n",
    "    channel_coefs = []\n",
    "    for c in range(in_channels):\n",
    "        overlap_nodes = None\n",
    "        min_graph = float(\"inf\")\n",
    "        for k in range(k_size):\n",
    "            node = c * k_size + k\n",
    "            mask = l1['graph'].edge_index[0] == node\n",
    "            tgt_nodes = set(l1['graph'].edge_index[1, mask].tolist())\n",
    "            min_graph = min(min_graph, mask.float().sum().item())\n",
    "            if overlap_nodes is None:\n",
    "                overlap_nodes = tgt_nodes\n",
    "            else:\n",
    "                overlap_nodes = overlap_nodes.intersection(tgt_nodes)\n",
    "        if min_graph == 0:\n",
    "            continue\n",
    "        coef = len(overlap_nodes) / min_graph\n",
    "        channel_coefs.append(coef)\n",
    "    return sum(channel_coefs)/len(channel_coefs)"
   ]
  },
  {
   "cell_type": "code",
   "execution_count": 232,
   "id": "74401f4e-135b-4307-99a2-d1d74a5e0cfc",
   "metadata": {},
   "outputs": [
    {
     "ename": "RuntimeError",
     "evalue": "shape '[512, 0]' is invalid for input of size 10",
     "output_type": "error",
     "traceback": [
      "\u001b[0;31m---------------------------------------------------------------------------\u001b[0m",
      "\u001b[0;31mRuntimeError\u001b[0m                              Traceback (most recent call last)",
      "Input \u001b[0;32mIn [232]\u001b[0m, in \u001b[0;36m<cell line: 4>\u001b[0;34m()\u001b[0m\n\u001b[1;32m      2\u001b[0m conv1 \u001b[38;5;241m=\u001b[39m graph[\u001b[38;5;124m'\u001b[39m\u001b[38;5;124mlayer1.0.conv1\u001b[39m\u001b[38;5;124m'\u001b[39m]\n\u001b[1;32m      3\u001b[0m conv2 \u001b[38;5;241m=\u001b[39m graph[\u001b[38;5;124m'\u001b[39m\u001b[38;5;124mlayer1.0.conv2\u001b[39m\u001b[38;5;124m'\u001b[39m]\n\u001b[0;32m----> 4\u001b[0m thput \u001b[38;5;241m=\u001b[39m \u001b[43mCopelandScores\u001b[49m\u001b[43m(\u001b[49m\u001b[43mgraph\u001b[49m\u001b[43m[\u001b[49m\u001b[38;5;124;43m\"\u001b[39;49m\u001b[38;5;124;43mlayer4.2.conv2\u001b[39;49m\u001b[38;5;124;43m\"\u001b[39;49m\u001b[43m]\u001b[49m\u001b[43m,\u001b[49m\u001b[43mgraph\u001b[49m\u001b[43m[\u001b[49m\u001b[38;5;124;43m\"\u001b[39;49m\u001b[38;5;124;43mfc\u001b[39;49m\u001b[38;5;124;43m\"\u001b[39;49m\u001b[43m]\u001b[49m\u001b[43m \u001b[49m\u001b[43m)\u001b[49m\n",
      "Input \u001b[0;32mIn [224]\u001b[0m, in \u001b[0;36mCopelandScores\u001b[0;34m(l1, l2)\u001b[0m\n\u001b[1;32m      7\u001b[0m \u001b[38;5;66;03m####\u001b[39;00m\n\u001b[1;32m      8\u001b[0m in_deg  \u001b[38;5;241m=\u001b[39m l1deg[\u001b[38;5;241m-\u001b[39ml1_out::]\n\u001b[0;32m----> 9\u001b[0m out_deg \u001b[38;5;241m=\u001b[39m \u001b[43ml2deg\u001b[49m\u001b[43m[\u001b[49m\u001b[38;5;241;43m0\u001b[39;49m\u001b[43m:\u001b[49m\u001b[43ml2_in\u001b[49m\u001b[43m]\u001b[49m\u001b[38;5;241;43m.\u001b[39;49m\u001b[43mreshape\u001b[49m\u001b[43m(\u001b[49m\u001b[43ml1_out\u001b[49m\u001b[43m,\u001b[49m\u001b[43m \u001b[49m\u001b[43mk_size\u001b[49m\u001b[43m)\u001b[49m\n\u001b[1;32m     10\u001b[0m \u001b[38;5;66;03m###\u001b[39;00m\n\u001b[1;32m     11\u001b[0m in_deg_norm \u001b[38;5;241m=\u001b[39m in_deg \u001b[38;5;241m/\u001b[39m (l1deg[\u001b[38;5;241m0\u001b[39m:l1[\u001b[38;5;124m'\u001b[39m\u001b[38;5;124mdim_in\u001b[39m\u001b[38;5;124m'\u001b[39m]] \u001b[38;5;241m!=\u001b[39m \u001b[38;5;241m0\u001b[39m)\u001b[38;5;241m.\u001b[39msum()\n",
      "\u001b[0;31mRuntimeError\u001b[0m: shape '[512, 0]' is invalid for input of size 10"
     ]
    }
   ],
   "source": [
    "graph = torch.load(test_graph)\n",
    "conv1 = graph['layer1.0.conv1']\n",
    "conv2 = graph['layer1.0.conv2']\n",
    "thput = CopelandScores(graph[\"layer4.2.conv2\"], graph[\"fc\"] )"
   ]
  },
  {
   "cell_type": "code",
   "execution_count": 233,
   "id": "6ca88014-cd16-48ff-9ff5-dc1e86d7a198",
   "metadata": {},
   "outputs": [
    {
     "data": {
      "text/plain": [
       "{'idx_in_start': 64531,\n",
       " 'idx_out_start': 64541,\n",
       " 'dim_in': 10,\n",
       " 'dim_out': 512,\n",
       " 'sparsity': 0.5,\n",
       " 'graph': Data(edge_index=[2, 5120], edge_attr=[5120, 1], num_nodes=522),\n",
       " 'ram_scores': ((0.6177238297953693, 1.1729952312659913, 45.73686),\n",
       "  (3.1750934212958315, 18.782793695806056, 4.595269))}"
      ]
     },
     "execution_count": 233,
     "metadata": {},
     "output_type": "execute_result"
    }
   ],
   "source": [
    "graph['fc']"
   ]
  },
  {
   "cell_type": "code",
   "execution_count": 227,
   "id": "49fe1790-7e33-45c9-9a0e-a3aa808d2ca9",
   "metadata": {},
   "outputs": [],
   "source": [
    "coef = ChannelOverlapCoef(conv2, conv1['dim_out'])"
   ]
  },
  {
   "cell_type": "code",
   "execution_count": 228,
   "id": "56ecdc24-8a21-4e4f-8258-ac39cbb1f519",
   "metadata": {},
   "outputs": [],
   "source": [
    "pairs = pairingLayers(list(graph.keys()))"
   ]
  },
  {
   "cell_type": "code",
   "execution_count": 229,
   "id": "f08bbf32-e5b0-4101-a182-8e5ce57e134c",
   "metadata": {},
   "outputs": [
    {
     "data": {
      "text/plain": [
       "[['conv1', 'layer1.0.conv1'],\n",
       " ['layer1.0.conv1', 'layer1.0.conv2'],\n",
       " ['layer1.0.conv2', 'layer1.1.conv1'],\n",
       " ['layer1.1.conv1', 'layer1.1.conv2'],\n",
       " ['layer1.1.conv2', 'layer1.2.conv1'],\n",
       " ['layer1.2.conv1', 'layer1.2.conv2'],\n",
       " ['layer1.2.conv2', 'layer2.0.conv1'],\n",
       " ['layer2.0.conv1', 'layer2.0.conv2'],\n",
       " ['layer1.2.conv2', 'layer2.0.downsample.0'],\n",
       " ['layer2.0.downsample.0', 'layer2.1.conv1'],\n",
       " ['layer2.0.conv2', 'layer2.1.conv1'],\n",
       " ['layer2.1.conv1', 'layer2.1.conv2'],\n",
       " ['layer2.1.conv2', 'layer2.2.conv1'],\n",
       " ['layer2.2.conv1', 'layer2.2.conv2'],\n",
       " ['layer2.2.conv2', 'layer2.3.conv1'],\n",
       " ['layer2.3.conv1', 'layer2.3.conv2'],\n",
       " ['layer2.3.conv2', 'layer3.0.conv1'],\n",
       " ['layer3.0.conv1', 'layer3.0.conv2'],\n",
       " ['layer2.3.conv2', 'layer3.0.downsample.0'],\n",
       " ['layer3.0.downsample.0', 'layer3.1.conv1'],\n",
       " ['layer3.0.conv2', 'layer3.1.conv1'],\n",
       " ['layer3.1.conv1', 'layer3.1.conv2'],\n",
       " ['layer3.1.conv2', 'layer3.2.conv1'],\n",
       " ['layer3.2.conv1', 'layer3.2.conv2'],\n",
       " ['layer3.2.conv2', 'layer3.3.conv1'],\n",
       " ['layer3.3.conv1', 'layer3.3.conv2'],\n",
       " ['layer3.3.conv2', 'layer3.4.conv1'],\n",
       " ['layer3.4.conv1', 'layer3.4.conv2'],\n",
       " ['layer3.4.conv2', 'layer3.5.conv1'],\n",
       " ['layer3.5.conv1', 'layer3.5.conv2'],\n",
       " ['layer3.5.conv2', 'layer4.0.conv1'],\n",
       " ['layer4.0.conv1', 'layer4.0.conv2'],\n",
       " ['layer3.5.conv2', 'layer4.0.downsample.0'],\n",
       " ['layer4.0.downsample.0', 'layer4.1.conv1'],\n",
       " ['layer4.0.conv2', 'layer4.1.conv1'],\n",
       " ['layer4.1.conv1', 'layer4.1.conv2'],\n",
       " ['layer4.1.conv2', 'layer4.2.conv1'],\n",
       " ['layer4.2.conv1', 'layer4.2.conv2'],\n",
       " ['layer4.2.conv2', 'fc']]"
      ]
     },
     "execution_count": 229,
     "metadata": {},
     "output_type": "execute_result"
    }
   ],
   "source": [
    "pairs"
   ]
  },
  {
   "cell_type": "code",
   "execution_count": null,
   "id": "5fb7aa76-2954-4e11-a391-de5bba1c090a",
   "metadata": {},
   "outputs": [],
   "source": [
    "### graph = torch.load(test_graph)\n",
    "conv1 = graph['layer1.0.conv1']\n",
    "conv2 = graph['layer1.0.conv2']\n",
    "conv1_out = conv1['dim_out']\n",
    "conv2_in = conv2['dim_in']\n",
    "kernel_size = conv2_in // conv1_out\n",
    "conv1_degree = pyg.utils.degree(conv1['graph'].edge_index[0])\n",
    "conv2_degree = pyg.utils.degree(conv2['graph'].edge_index[0])\n",
    "in_degree = conv1_degree[conv1['dim_in']::]\n",
    "out_degree = conv2_degree[0:conv2_in].reshape(conv1_out, kernel_size)\n",
    "\n",
    "in_degree_norm = in_degree / (conv1_degree[0:conv1['dim_in']]!=0).sum()\n",
    "out_degree_norm = out_degree / (conv2_degree[conv2['dim_in']::] != 0).sum()\n",
    "\n",
    "compatibility = ((in_degree != 0) & (out_degree.mean(dim=1) != 0)).float().sum()\n",
    "compatibility /= ((in_degree != 0) | (out_degree.mean(dim=1) != 0)).float().sum()\n",
    "\n",
    "\n",
    "\n"
   ]
  },
  {
   "cell_type": "code",
   "execution_count": 166,
   "id": "316f17af-da03-4ee0-ac1e-09eb238c4750",
   "metadata": {},
   "outputs": [
    {
     "ename": "AttributeError",
     "evalue": "'Tensor' object has no attribute 'toset'",
     "output_type": "error",
     "traceback": [
      "\u001b[0;31m---------------------------------------------------------------------------\u001b[0m",
      "\u001b[0;31mAttributeError\u001b[0m                            Traceback (most recent call last)",
      "Input \u001b[0;32mIn [168]\u001b[0m, in \u001b[0;36m<cell line: 2>\u001b[0;34m()\u001b[0m\n\u001b[1;32m      1\u001b[0m m \u001b[38;5;241m=\u001b[39m conv1[\u001b[38;5;124m\"\u001b[39m\u001b[38;5;124mgraph\u001b[39m\u001b[38;5;124m\"\u001b[39m]\u001b[38;5;241m.\u001b[39medge_index[\u001b[38;5;241m0\u001b[39m] \u001b[38;5;241m==\u001b[39m \u001b[38;5;241m0\u001b[39m\n\u001b[0;32m----> 2\u001b[0m \u001b[43mconv1\u001b[49m\u001b[43m[\u001b[49m\u001b[38;5;124;43m'\u001b[39;49m\u001b[38;5;124;43mgraph\u001b[39;49m\u001b[38;5;124;43m'\u001b[39;49m\u001b[43m]\u001b[49m\u001b[38;5;241;43m.\u001b[39;49m\u001b[43medge_index\u001b[49m\u001b[43m[\u001b[49m\u001b[38;5;241;43m1\u001b[39;49m\u001b[43m,\u001b[49m\u001b[43m \u001b[49m\u001b[43mm\u001b[49m\u001b[43m]\u001b[49m\u001b[38;5;241;43m.\u001b[39;49m\u001b[43mtoset\u001b[49m()\n",
      "\u001b[0;31mAttributeError\u001b[0m: 'Tensor' object has no attribute 'toset'"
     ]
    }
   ],
   "source": [
    "m = conv1[\"graph\"].edge_index[0] == 0\n",
    "conv1['graph'].edge_index[1, m].unqiue()"
   ]
  },
  {
   "cell_type": "code",
   "execution_count": 19,
   "id": "f24a8b96-16b4-4a63-88a0-402165b56ab6",
   "metadata": {},
   "outputs": [
    {
     "data": {
      "text/plain": [
       "{'idx_in_start': 723,\n",
       " 'idx_out_start': 1299,\n",
       " 'dim_in': 576,\n",
       " 'dim_out': 64,\n",
       " 'sparsity': 0.3809136284722222,\n",
       " 'graph': Data(edge_index=[2, 28084], edge_attr=[28084, 1], num_nodes=640),\n",
       " 'ram_scores': ((0.2094198735529998, 0.26276230557066715, 89.220634),\n",
       "  (3.5243808478978886, 20.392490381547425, 5.3018456))}"
      ]
     },
     "execution_count": 19,
     "metadata": {},
     "output_type": "execute_result"
    }
   ],
   "source": [
    "conv2"
   ]
  },
  {
   "cell_type": "code",
   "execution_count": 159,
   "id": "255523e0-1d88-40f0-b88b-c1a5728fbdde",
   "metadata": {},
   "outputs": [
    {
     "data": {
      "text/plain": [
       "tensor(0.2730)"
      ]
     },
     "execution_count": 159,
     "metadata": {},
     "output_type": "execute_result"
    }
   ],
   "source": [
    "thput.mean()"
   ]
  },
  {
   "cell_type": "code",
   "execution_count": 77,
   "id": "0ac3e615-9ed4-497e-b740-e4cdf08dec1a",
   "metadata": {},
   "outputs": [
    {
     "data": {
      "text/plain": [
       "tensor([0.5074, 0.0000, 0.6148, 0.4537, 0.6407, 0.3907, 0.5259, 0.0000, 0.4889,\n",
       "        0.5519, 0.4704, 0.4407, 0.0000, 0.0000, 0.3519, 0.4741, 0.5389, 0.4944,\n",
       "        0.4500, 0.0000, 0.5574, 0.0000, 0.0000, 0.6111, 0.4759, 0.4537, 0.7870,\n",
       "        0.5907, 0.6056, 0.5870, 0.1778, 0.0000, 0.6222, 0.0000, 0.4370, 0.4019,\n",
       "        0.5074, 0.0000, 0.5648, 0.4241, 0.6111, 0.0000, 0.0000, 0.0000, 0.6667,\n",
       "        0.6148, 0.5167, 0.5815, 0.5333, 0.4222, 0.5630, 0.0000, 0.5667, 0.6037,\n",
       "        0.4944, 0.6537, 0.6352, 0.4389, 0.4204, 0.5130, 0.5333, 0.4352, 0.5167,\n",
       "        0.4852])"
      ]
     },
     "execution_count": 77,
     "metadata": {},
     "output_type": "execute_result"
    }
   ],
   "source": [
    "out_degree_norm.mean(dim=-1)"
   ]
  },
  {
   "cell_type": "code",
   "execution_count": 70,
   "id": "6da960f5-7134-4d09-acce-52652d27b11f",
   "metadata": {},
   "outputs": [
    {
     "data": {
      "text/plain": [
       "tensor([215., 219., 262., 254., 172., 278., 290., 270., 207., 238., 215., 175.,\n",
       "        209., 128., 259., 181., 321., 198., 199., 247., 211., 216.,   0.,   0.,\n",
       "        264., 257.,   0., 260., 272., 172.,   0., 260., 275., 238., 313., 248.,\n",
       "        269., 269., 203., 229., 117., 188., 275., 279., 240., 250., 286., 275.,\n",
       "        302., 265., 246., 243., 255., 260., 299., 197., 207., 226.,  94., 213.,\n",
       "        191., 290., 196., 155.])"
      ]
     },
     "execution_count": 70,
     "metadata": {},
     "output_type": "execute_result"
    }
   ],
   "source": [
    "conv2_degree[conv2['dim_in']::]"
   ]
  },
  {
   "cell_type": "code",
   "execution_count": 141,
   "id": "eccf1233-5783-483d-b339-5d5d7b119122",
   "metadata": {},
   "outputs": [
    {
     "data": {
      "text/plain": [
       "tensor(14)"
      ]
     },
     "execution_count": 141,
     "metadata": {},
     "output_type": "execute_result"
    }
   ],
   "source": [
    "(in_degree_rel == 0).sum()"
   ]
  },
  {
   "cell_type": "code",
   "execution_count": 134,
   "id": "9d9d266f-87bc-4dc1-8306-eb979e1586e8",
   "metadata": {},
   "outputs": [
    {
     "data": {
      "text/plain": [
       "tensor([[0.3785, 0.3785, 0.3785, 0.3785, 0.3785, 0.3785, 0.3785, 0.3785, 0.3785],\n",
       "        [0.0000, 0.0000, 0.0000, 0.0000, 0.0000, 0.0000, 0.0000, 0.0000, 0.0000],\n",
       "        [0.3958, 0.3958, 0.3958, 0.3958, 0.3958, 0.3958, 0.3958, 0.3958, 0.3958],\n",
       "        [0.2899, 0.2899, 0.2899, 0.2899, 0.2899, 0.2899, 0.2899, 0.2899, 0.2899],\n",
       "        [0.4392, 0.4392, 0.4392, 0.4392, 0.4392, 0.4392, 0.4392, 0.4392, 0.4392],\n",
       "        [0.2500, 0.2500, 0.2500, 0.2500, 0.2500, 0.2500, 0.2500, 0.2500, 0.2500],\n",
       "        [0.3663, 0.3663, 0.3663, 0.3663, 0.3663, 0.3663, 0.3663, 0.3663, 0.3663],\n",
       "        [0.0000, 0.0000, 0.0000, 0.0000, 0.0000, 0.0000, 0.0000, 0.0000, 0.0000],\n",
       "        [0.3559, 0.3559, 0.3559, 0.3559, 0.3559, 0.3559, 0.3559, 0.3559, 0.3559],\n",
       "        [0.3889, 0.3889, 0.3889, 0.3889, 0.3889, 0.3889, 0.3889, 0.3889, 0.3889],\n",
       "        [0.3837, 0.3837, 0.3837, 0.3837, 0.3837, 0.3837, 0.3837, 0.3837, 0.3837],\n",
       "        [0.3316, 0.3316, 0.3316, 0.3316, 0.3316, 0.3316, 0.3316, 0.3316, 0.3316],\n",
       "        [0.0000, 0.0000, 0.0000, 0.0000, 0.0000, 0.0000, 0.0000, 0.0000, 0.0000],\n",
       "        [0.0000, 0.0000, 0.0000, 0.0000, 0.0000, 0.0000, 0.0000, 0.0000, 0.0000],\n",
       "        [0.1979, 0.1979, 0.1979, 0.1979, 0.1979, 0.1979, 0.1979, 0.1979, 0.1979],\n",
       "        [0.3976, 0.3976, 0.3976, 0.3976, 0.3976, 0.3976, 0.3976, 0.3976, 0.3976],\n",
       "        [0.3854, 0.3854, 0.3854, 0.3854, 0.3854, 0.3854, 0.3854, 0.3854, 0.3854],\n",
       "        [0.3542, 0.3542, 0.3542, 0.3542, 0.3542, 0.3542, 0.3542, 0.3542, 0.3542],\n",
       "        [0.3490, 0.3490, 0.3490, 0.3490, 0.3490, 0.3490, 0.3490, 0.3490, 0.3490],\n",
       "        [0.0000, 0.0000, 0.0000, 0.0000, 0.0000, 0.0000, 0.0000, 0.0000, 0.0000],\n",
       "        [0.4097, 0.4097, 0.4097, 0.4097, 0.4097, 0.4097, 0.4097, 0.4097, 0.4097],\n",
       "        [0.0000, 0.0000, 0.0000, 0.0000, 0.0000, 0.0000, 0.0000, 0.0000, 0.0000],\n",
       "        [0.0000, 0.0000, 0.0000, 0.0000, 0.0000, 0.0000, 0.0000, 0.0000, 0.0000],\n",
       "        [0.4497, 0.4497, 0.4497, 0.4497, 0.4497, 0.4497, 0.4497, 0.4497, 0.4497],\n",
       "        [0.3854, 0.3854, 0.3854, 0.3854, 0.3854, 0.3854, 0.3854, 0.3854, 0.3854],\n",
       "        [0.3073, 0.3073, 0.3073, 0.3073, 0.3073, 0.3073, 0.3073, 0.3073, 0.3073],\n",
       "        [0.3750, 0.3750, 0.3750, 0.3750, 0.3750, 0.3750, 0.3750, 0.3750, 0.3750],\n",
       "        [0.3663, 0.3663, 0.3663, 0.3663, 0.3663, 0.3663, 0.3663, 0.3663, 0.3663],\n",
       "        [0.4271, 0.4271, 0.4271, 0.4271, 0.4271, 0.4271, 0.4271, 0.4271, 0.4271],\n",
       "        [0.4097, 0.4097, 0.4097, 0.4097, 0.4097, 0.4097, 0.4097, 0.4097, 0.4097],\n",
       "        [0.1337, 0.1337, 0.1337, 0.1337, 0.1337, 0.1337, 0.1337, 0.1337, 0.1337],\n",
       "        [0.0000, 0.0000, 0.0000, 0.0000, 0.0000, 0.0000, 0.0000, 0.0000, 0.0000],\n",
       "        [0.3872, 0.3872, 0.3872, 0.3872, 0.3872, 0.3872, 0.3872, 0.3872, 0.3872],\n",
       "        [0.0000, 0.0000, 0.0000, 0.0000, 0.0000, 0.0000, 0.0000, 0.0000, 0.0000],\n",
       "        [0.3646, 0.3646, 0.3646, 0.3646, 0.3646, 0.3646, 0.3646, 0.3646, 0.3646],\n",
       "        [0.2222, 0.2222, 0.2222, 0.2222, 0.2222, 0.2222, 0.2222, 0.2222, 0.2222],\n",
       "        [0.3490, 0.3490, 0.3490, 0.3490, 0.3490, 0.3490, 0.3490, 0.3490, 0.3490],\n",
       "        [0.0000, 0.0000, 0.0000, 0.0000, 0.0000, 0.0000, 0.0000, 0.0000, 0.0000],\n",
       "        [0.4271, 0.4271, 0.4271, 0.4271, 0.4271, 0.4271, 0.4271, 0.4271, 0.4271],\n",
       "        [0.2517, 0.2517, 0.2517, 0.2517, 0.2517, 0.2517, 0.2517, 0.2517, 0.2517],\n",
       "        [0.4132, 0.4132, 0.4132, 0.4132, 0.4132, 0.4132, 0.4132, 0.4132, 0.4132],\n",
       "        [0.0000, 0.0000, 0.0000, 0.0000, 0.0000, 0.0000, 0.0000, 0.0000, 0.0000],\n",
       "        [0.0000, 0.0000, 0.0000, 0.0000, 0.0000, 0.0000, 0.0000, 0.0000, 0.0000],\n",
       "        [0.0000, 0.0000, 0.0000, 0.0000, 0.0000, 0.0000, 0.0000, 0.0000, 0.0000],\n",
       "        [0.4826, 0.4826, 0.4826, 0.4826, 0.4826, 0.4826, 0.4826, 0.4826, 0.4826],\n",
       "        [0.4219, 0.4219, 0.4219, 0.4219, 0.4219, 0.4219, 0.4219, 0.4219, 0.4219],\n",
       "        [0.3767, 0.3767, 0.3767, 0.3767, 0.3767, 0.3767, 0.3767, 0.3767, 0.3767],\n",
       "        [0.4149, 0.4149, 0.4149, 0.4149, 0.4149, 0.4149, 0.4149, 0.4149, 0.4149],\n",
       "        [0.4080, 0.4080, 0.4080, 0.4080, 0.4080, 0.4080, 0.4080, 0.4080, 0.4080],\n",
       "        [0.2517, 0.2517, 0.2517, 0.2517, 0.2517, 0.2517, 0.2517, 0.2517, 0.2517],\n",
       "        [0.3767, 0.3767, 0.3767, 0.3767, 0.3767, 0.3767, 0.3767, 0.3767, 0.3767],\n",
       "        [0.0000, 0.0000, 0.0000, 0.0000, 0.0000, 0.0000, 0.0000, 0.0000, 0.0000],\n",
       "        [0.3837, 0.3837, 0.3837, 0.3837, 0.3837, 0.3837, 0.3837, 0.3837, 0.3837],\n",
       "        [0.3941, 0.3941, 0.3941, 0.3941, 0.3941, 0.3941, 0.3941, 0.3941, 0.3941],\n",
       "        [0.3247, 0.3247, 0.3247, 0.3247, 0.3247, 0.3247, 0.3247, 0.3247, 0.3247],\n",
       "        [0.4201, 0.4201, 0.4201, 0.4201, 0.4201, 0.4201, 0.4201, 0.4201, 0.4201],\n",
       "        [0.4306, 0.4306, 0.4306, 0.4306, 0.4306, 0.4306, 0.4306, 0.4306, 0.4306],\n",
       "        [0.3524, 0.3524, 0.3524, 0.3524, 0.3524, 0.3524, 0.3524, 0.3524, 0.3524],\n",
       "        [0.3281, 0.3281, 0.3281, 0.3281, 0.3281, 0.3281, 0.3281, 0.3281, 0.3281],\n",
       "        [0.4271, 0.4271, 0.4271, 0.4271, 0.4271, 0.4271, 0.4271, 0.4271, 0.4271],\n",
       "        [0.2812, 0.2812, 0.2812, 0.2812, 0.2812, 0.2812, 0.2812, 0.2812, 0.2812],\n",
       "        [0.2726, 0.2726, 0.2726, 0.2726, 0.2726, 0.2726, 0.2726, 0.2726, 0.2726],\n",
       "        [0.3299, 0.3299, 0.3299, 0.3299, 0.3299, 0.3299, 0.3299, 0.3299, 0.3299],\n",
       "        [0.3090, 0.3090, 0.3090, 0.3090, 0.3090, 0.3090, 0.3090, 0.3090, 0.3090]])"
      ]
     },
     "execution_count": 134,
     "metadata": {},
     "output_type": "execute_result"
    }
   ],
   "source": [
    "in_degree_rel.tile(9).view(9, 64).T"
   ]
  },
  {
   "cell_type": "code",
   "execution_count": 130,
   "id": "660dd314-7c6f-4bbc-9e74-1f4bf88dcc79",
   "metadata": {},
   "outputs": [
    {
     "data": {
      "text/plain": [
       "torch.Size([64, 9])"
      ]
     },
     "execution_count": 130,
     "metadata": {},
     "output_type": "execute_result"
    }
   ],
   "source": [
    "out_degree_rel.shape"
   ]
  },
  {
   "cell_type": "code",
   "execution_count": 95,
   "id": "b1ac54e2-a96b-4c31-b871-a56b37db1e4f",
   "metadata": {},
   "outputs": [
    {
     "data": {
      "text/plain": [
       "tensor(1.)"
      ]
     },
     "execution_count": 95,
     "metadata": {},
     "output_type": "execute_result"
    }
   ],
   "source": [
    "compatibility"
   ]
  },
  {
   "cell_type": "code",
   "execution_count": 86,
   "id": "978aecf1-123f-4a97-b28c-dc057a257e7a",
   "metadata": {},
   "outputs": [
    {
     "data": {
      "text/plain": [
       "tensor([1., 0., 1., 1., 1., 1., 1., 0., 1., 1., 1., 1., 0., 0., 1., 1., 1., 1.,\n",
       "        1., 0., 1., 0., 0., 1., 1., 1., 1., 1., 1., 1., 1., 0., 1., 0., 1., 1.,\n",
       "        1., 0., 1., 1., 1., 0., 0., 0., 1., 1., 1., 1., 1., 1., 1., 0., 1., 1.,\n",
       "        1., 1., 1., 1., 1., 1., 1., 1., 1., 1.])"
      ]
     },
     "execution_count": 86,
     "metadata": {},
     "output_type": "execute_result"
    }
   ],
   "source": [
    "(in_degree != 0).float()"
   ]
  },
  {
   "cell_type": "code",
   "execution_count": 88,
   "id": "d2371ee8-5ada-4d29-a697-82227fc4be1d",
   "metadata": {},
   "outputs": [
    {
     "data": {
      "text/plain": [
       "tensor([1., 0., 1., 1., 1., 1., 1., 0., 1., 1., 1., 1., 0., 0., 1., 1., 1., 1.,\n",
       "        1., 0., 1., 0., 0., 1., 1., 1., 1., 1., 1., 1., 1., 0., 1., 0., 1., 1.,\n",
       "        1., 0., 1., 1., 1., 0., 0., 0., 1., 1., 1., 1., 1., 1., 1., 0., 1., 1.,\n",
       "        1., 1., 1., 1., 1., 1., 1., 1., 1., 1.])"
      ]
     },
     "execution_count": 88,
     "metadata": {},
     "output_type": "execute_result"
    }
   ],
   "source": [
    "(out_degree.mean(dim=1) != 0).float()"
   ]
  },
  {
   "cell_type": "code",
   "execution_count": 216,
   "id": "d7e32171-8f8b-4d1b-9bea-2dfa2520c011",
   "metadata": {},
   "outputs": [
    {
     "data": {
      "text/plain": [
       "['conv1',\n",
       " 'layer1.0.conv1',\n",
       " 'layer1.0.conv2',\n",
       " 'layer1.1.conv1',\n",
       " 'layer1.1.conv2',\n",
       " 'layer1.2.conv1',\n",
       " 'layer1.2.conv2',\n",
       " 'layer2.0.conv1',\n",
       " 'layer2.0.conv2',\n",
       " 'layer2.0.downsample.0',\n",
       " 'layer2.1.conv1',\n",
       " 'layer2.1.conv2',\n",
       " 'layer2.2.conv1',\n",
       " 'layer2.2.conv2',\n",
       " 'layer2.3.conv1',\n",
       " 'layer2.3.conv2',\n",
       " 'layer3.0.conv1',\n",
       " 'layer3.0.conv2',\n",
       " 'layer3.0.downsample.0',\n",
       " 'layer3.1.conv1',\n",
       " 'layer3.1.conv2',\n",
       " 'layer3.2.conv1',\n",
       " 'layer3.2.conv2',\n",
       " 'layer3.3.conv1',\n",
       " 'layer3.3.conv2',\n",
       " 'layer3.4.conv1',\n",
       " 'layer3.4.conv2',\n",
       " 'layer3.5.conv1',\n",
       " 'layer3.5.conv2',\n",
       " 'layer4.0.conv1',\n",
       " 'layer4.0.conv2',\n",
       " 'layer4.0.downsample.0',\n",
       " 'layer4.1.conv1',\n",
       " 'layer4.1.conv2',\n",
       " 'layer4.2.conv1',\n",
       " 'layer4.2.conv2',\n",
       " 'fc']"
      ]
     },
     "execution_count": 216,
     "metadata": {},
     "output_type": "execute_result"
    }
   ],
   "source": [
    "list(graph.keys())"
   ]
  },
  {
   "cell_type": "code",
   "execution_count": 23,
   "id": "a2b41ed3-f62d-4ee1-b56a-d876d42093e0",
   "metadata": {},
   "outputs": [],
   "source": [
    "model = torchvision.models.resnet34(num_classes=10)\n"
   ]
  },
  {
   "cell_type": "code",
   "execution_count": 24,
   "id": "366161da-bf3f-485c-8797-7f71bf4049d1",
   "metadata": {},
   "outputs": [
    {
     "data": {
      "text/plain": [
       "ResNet(\n",
       "  (conv1): Conv2d(3, 64, kernel_size=(7, 7), stride=(2, 2), padding=(3, 3), bias=False)\n",
       "  (bn1): BatchNorm2d(64, eps=1e-05, momentum=0.1, affine=True, track_running_stats=True)\n",
       "  (relu): ReLU(inplace=True)\n",
       "  (maxpool): MaxPool2d(kernel_size=3, stride=2, padding=1, dilation=1, ceil_mode=False)\n",
       "  (layer1): Sequential(\n",
       "    (0): BasicBlock(\n",
       "      (conv1): Conv2d(64, 64, kernel_size=(3, 3), stride=(1, 1), padding=(1, 1), bias=False)\n",
       "      (bn1): BatchNorm2d(64, eps=1e-05, momentum=0.1, affine=True, track_running_stats=True)\n",
       "      (relu): ReLU(inplace=True)\n",
       "      (conv2): Conv2d(64, 64, kernel_size=(3, 3), stride=(1, 1), padding=(1, 1), bias=False)\n",
       "      (bn2): BatchNorm2d(64, eps=1e-05, momentum=0.1, affine=True, track_running_stats=True)\n",
       "    )\n",
       "    (1): BasicBlock(\n",
       "      (conv1): Conv2d(64, 64, kernel_size=(3, 3), stride=(1, 1), padding=(1, 1), bias=False)\n",
       "      (bn1): BatchNorm2d(64, eps=1e-05, momentum=0.1, affine=True, track_running_stats=True)\n",
       "      (relu): ReLU(inplace=True)\n",
       "      (conv2): Conv2d(64, 64, kernel_size=(3, 3), stride=(1, 1), padding=(1, 1), bias=False)\n",
       "      (bn2): BatchNorm2d(64, eps=1e-05, momentum=0.1, affine=True, track_running_stats=True)\n",
       "    )\n",
       "    (2): BasicBlock(\n",
       "      (conv1): Conv2d(64, 64, kernel_size=(3, 3), stride=(1, 1), padding=(1, 1), bias=False)\n",
       "      (bn1): BatchNorm2d(64, eps=1e-05, momentum=0.1, affine=True, track_running_stats=True)\n",
       "      (relu): ReLU(inplace=True)\n",
       "      (conv2): Conv2d(64, 64, kernel_size=(3, 3), stride=(1, 1), padding=(1, 1), bias=False)\n",
       "      (bn2): BatchNorm2d(64, eps=1e-05, momentum=0.1, affine=True, track_running_stats=True)\n",
       "    )\n",
       "  )\n",
       "  (layer2): Sequential(\n",
       "    (0): BasicBlock(\n",
       "      (conv1): Conv2d(64, 128, kernel_size=(3, 3), stride=(2, 2), padding=(1, 1), bias=False)\n",
       "      (bn1): BatchNorm2d(128, eps=1e-05, momentum=0.1, affine=True, track_running_stats=True)\n",
       "      (relu): ReLU(inplace=True)\n",
       "      (conv2): Conv2d(128, 128, kernel_size=(3, 3), stride=(1, 1), padding=(1, 1), bias=False)\n",
       "      (bn2): BatchNorm2d(128, eps=1e-05, momentum=0.1, affine=True, track_running_stats=True)\n",
       "      (downsample): Sequential(\n",
       "        (0): Conv2d(64, 128, kernel_size=(1, 1), stride=(2, 2), bias=False)\n",
       "        (1): BatchNorm2d(128, eps=1e-05, momentum=0.1, affine=True, track_running_stats=True)\n",
       "      )\n",
       "    )\n",
       "    (1): BasicBlock(\n",
       "      (conv1): Conv2d(128, 128, kernel_size=(3, 3), stride=(1, 1), padding=(1, 1), bias=False)\n",
       "      (bn1): BatchNorm2d(128, eps=1e-05, momentum=0.1, affine=True, track_running_stats=True)\n",
       "      (relu): ReLU(inplace=True)\n",
       "      (conv2): Conv2d(128, 128, kernel_size=(3, 3), stride=(1, 1), padding=(1, 1), bias=False)\n",
       "      (bn2): BatchNorm2d(128, eps=1e-05, momentum=0.1, affine=True, track_running_stats=True)\n",
       "    )\n",
       "    (2): BasicBlock(\n",
       "      (conv1): Conv2d(128, 128, kernel_size=(3, 3), stride=(1, 1), padding=(1, 1), bias=False)\n",
       "      (bn1): BatchNorm2d(128, eps=1e-05, momentum=0.1, affine=True, track_running_stats=True)\n",
       "      (relu): ReLU(inplace=True)\n",
       "      (conv2): Conv2d(128, 128, kernel_size=(3, 3), stride=(1, 1), padding=(1, 1), bias=False)\n",
       "      (bn2): BatchNorm2d(128, eps=1e-05, momentum=0.1, affine=True, track_running_stats=True)\n",
       "    )\n",
       "    (3): BasicBlock(\n",
       "      (conv1): Conv2d(128, 128, kernel_size=(3, 3), stride=(1, 1), padding=(1, 1), bias=False)\n",
       "      (bn1): BatchNorm2d(128, eps=1e-05, momentum=0.1, affine=True, track_running_stats=True)\n",
       "      (relu): ReLU(inplace=True)\n",
       "      (conv2): Conv2d(128, 128, kernel_size=(3, 3), stride=(1, 1), padding=(1, 1), bias=False)\n",
       "      (bn2): BatchNorm2d(128, eps=1e-05, momentum=0.1, affine=True, track_running_stats=True)\n",
       "    )\n",
       "  )\n",
       "  (layer3): Sequential(\n",
       "    (0): BasicBlock(\n",
       "      (conv1): Conv2d(128, 256, kernel_size=(3, 3), stride=(2, 2), padding=(1, 1), bias=False)\n",
       "      (bn1): BatchNorm2d(256, eps=1e-05, momentum=0.1, affine=True, track_running_stats=True)\n",
       "      (relu): ReLU(inplace=True)\n",
       "      (conv2): Conv2d(256, 256, kernel_size=(3, 3), stride=(1, 1), padding=(1, 1), bias=False)\n",
       "      (bn2): BatchNorm2d(256, eps=1e-05, momentum=0.1, affine=True, track_running_stats=True)\n",
       "      (downsample): Sequential(\n",
       "        (0): Conv2d(128, 256, kernel_size=(1, 1), stride=(2, 2), bias=False)\n",
       "        (1): BatchNorm2d(256, eps=1e-05, momentum=0.1, affine=True, track_running_stats=True)\n",
       "      )\n",
       "    )\n",
       "    (1): BasicBlock(\n",
       "      (conv1): Conv2d(256, 256, kernel_size=(3, 3), stride=(1, 1), padding=(1, 1), bias=False)\n",
       "      (bn1): BatchNorm2d(256, eps=1e-05, momentum=0.1, affine=True, track_running_stats=True)\n",
       "      (relu): ReLU(inplace=True)\n",
       "      (conv2): Conv2d(256, 256, kernel_size=(3, 3), stride=(1, 1), padding=(1, 1), bias=False)\n",
       "      (bn2): BatchNorm2d(256, eps=1e-05, momentum=0.1, affine=True, track_running_stats=True)\n",
       "    )\n",
       "    (2): BasicBlock(\n",
       "      (conv1): Conv2d(256, 256, kernel_size=(3, 3), stride=(1, 1), padding=(1, 1), bias=False)\n",
       "      (bn1): BatchNorm2d(256, eps=1e-05, momentum=0.1, affine=True, track_running_stats=True)\n",
       "      (relu): ReLU(inplace=True)\n",
       "      (conv2): Conv2d(256, 256, kernel_size=(3, 3), stride=(1, 1), padding=(1, 1), bias=False)\n",
       "      (bn2): BatchNorm2d(256, eps=1e-05, momentum=0.1, affine=True, track_running_stats=True)\n",
       "    )\n",
       "    (3): BasicBlock(\n",
       "      (conv1): Conv2d(256, 256, kernel_size=(3, 3), stride=(1, 1), padding=(1, 1), bias=False)\n",
       "      (bn1): BatchNorm2d(256, eps=1e-05, momentum=0.1, affine=True, track_running_stats=True)\n",
       "      (relu): ReLU(inplace=True)\n",
       "      (conv2): Conv2d(256, 256, kernel_size=(3, 3), stride=(1, 1), padding=(1, 1), bias=False)\n",
       "      (bn2): BatchNorm2d(256, eps=1e-05, momentum=0.1, affine=True, track_running_stats=True)\n",
       "    )\n",
       "    (4): BasicBlock(\n",
       "      (conv1): Conv2d(256, 256, kernel_size=(3, 3), stride=(1, 1), padding=(1, 1), bias=False)\n",
       "      (bn1): BatchNorm2d(256, eps=1e-05, momentum=0.1, affine=True, track_running_stats=True)\n",
       "      (relu): ReLU(inplace=True)\n",
       "      (conv2): Conv2d(256, 256, kernel_size=(3, 3), stride=(1, 1), padding=(1, 1), bias=False)\n",
       "      (bn2): BatchNorm2d(256, eps=1e-05, momentum=0.1, affine=True, track_running_stats=True)\n",
       "    )\n",
       "    (5): BasicBlock(\n",
       "      (conv1): Conv2d(256, 256, kernel_size=(3, 3), stride=(1, 1), padding=(1, 1), bias=False)\n",
       "      (bn1): BatchNorm2d(256, eps=1e-05, momentum=0.1, affine=True, track_running_stats=True)\n",
       "      (relu): ReLU(inplace=True)\n",
       "      (conv2): Conv2d(256, 256, kernel_size=(3, 3), stride=(1, 1), padding=(1, 1), bias=False)\n",
       "      (bn2): BatchNorm2d(256, eps=1e-05, momentum=0.1, affine=True, track_running_stats=True)\n",
       "    )\n",
       "  )\n",
       "  (layer4): Sequential(\n",
       "    (0): BasicBlock(\n",
       "      (conv1): Conv2d(256, 512, kernel_size=(3, 3), stride=(2, 2), padding=(1, 1), bias=False)\n",
       "      (bn1): BatchNorm2d(512, eps=1e-05, momentum=0.1, affine=True, track_running_stats=True)\n",
       "      (relu): ReLU(inplace=True)\n",
       "      (conv2): Conv2d(512, 512, kernel_size=(3, 3), stride=(1, 1), padding=(1, 1), bias=False)\n",
       "      (bn2): BatchNorm2d(512, eps=1e-05, momentum=0.1, affine=True, track_running_stats=True)\n",
       "      (downsample): Sequential(\n",
       "        (0): Conv2d(256, 512, kernel_size=(1, 1), stride=(2, 2), bias=False)\n",
       "        (1): BatchNorm2d(512, eps=1e-05, momentum=0.1, affine=True, track_running_stats=True)\n",
       "      )\n",
       "    )\n",
       "    (1): BasicBlock(\n",
       "      (conv1): Conv2d(512, 512, kernel_size=(3, 3), stride=(1, 1), padding=(1, 1), bias=False)\n",
       "      (bn1): BatchNorm2d(512, eps=1e-05, momentum=0.1, affine=True, track_running_stats=True)\n",
       "      (relu): ReLU(inplace=True)\n",
       "      (conv2): Conv2d(512, 512, kernel_size=(3, 3), stride=(1, 1), padding=(1, 1), bias=False)\n",
       "      (bn2): BatchNorm2d(512, eps=1e-05, momentum=0.1, affine=True, track_running_stats=True)\n",
       "    )\n",
       "    (2): BasicBlock(\n",
       "      (conv1): Conv2d(512, 512, kernel_size=(3, 3), stride=(1, 1), padding=(1, 1), bias=False)\n",
       "      (bn1): BatchNorm2d(512, eps=1e-05, momentum=0.1, affine=True, track_running_stats=True)\n",
       "      (relu): ReLU(inplace=True)\n",
       "      (conv2): Conv2d(512, 512, kernel_size=(3, 3), stride=(1, 1), padding=(1, 1), bias=False)\n",
       "      (bn2): BatchNorm2d(512, eps=1e-05, momentum=0.1, affine=True, track_running_stats=True)\n",
       "    )\n",
       "  )\n",
       "  (avgpool): AdaptiveAvgPool2d(output_size=(1, 1))\n",
       "  (fc): Linear(in_features=512, out_features=10, bias=True)\n",
       ")"
      ]
     },
     "execution_count": 24,
     "metadata": {},
     "output_type": "execute_result"
    }
   ],
   "source": [
    "model"
   ]
  },
  {
   "cell_type": "code",
   "execution_count": null,
   "id": "7c478b26-c3a1-497b-9f27-c428d82d121d",
   "metadata": {},
   "outputs": [],
   "source": []
  }
 ],
 "metadata": {
  "kernelspec": {
   "display_name": "Python 3 (ipykernel)",
   "language": "python",
   "name": "python3"
  },
  "language_info": {
   "codemirror_mode": {
    "name": "ipython",
    "version": 3
   },
   "file_extension": ".py",
   "mimetype": "text/x-python",
   "name": "python",
   "nbconvert_exporter": "python",
   "pygments_lexer": "ipython3",
   "version": "3.8.13"
  }
 },
 "nbformat": 4,
 "nbformat_minor": 5
}
